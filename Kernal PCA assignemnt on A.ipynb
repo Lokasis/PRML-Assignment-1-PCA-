{
 "cells": [
  {
   "cell_type": "code",
   "execution_count": 2,
   "metadata": {
    "collapsed": true,
    "deletable": true,
    "editable": true
   },
   "outputs": [],
   "source": [
    "import pandas as pd\n",
    "import numpy as np\n",
    "import matplotlib.pyplot as plot\n",
    "from matplotlib import rcParams\n",
    "%matplotlib inline"
   ]
  },
  {
   "cell_type": "code",
   "execution_count": 3,
   "metadata": {
    "collapsed": false,
    "deletable": true,
    "editable": true
   },
   "outputs": [
    {
     "data": {
      "text/plain": [
       "u'c:\\\\users\\\\hackerboy\\\\desktop\\\\prml\\\\assignment'"
      ]
     },
     "execution_count": 3,
     "metadata": {},
     "output_type": "execute_result"
    }
   ],
   "source": [
    "pwd\n"
   ]
  },
  {
   "cell_type": "code",
   "execution_count": 4,
   "metadata": {
    "collapsed": false,
    "deletable": true,
    "editable": true
   },
   "outputs": [],
   "source": [
    "header_names=['first','second']\n",
    "data=pd.read_csv(\"E:/competitive coding/zzzzz/PRML_assignment1/PRML_assignment1_2020/Dataset3.csv\",header=None,names=header_names)"
   ]
  },
  {
   "cell_type": "code",
   "execution_count": 5,
   "metadata": {
    "collapsed": false,
    "deletable": true,
    "editable": true
   },
   "outputs": [
    {
     "data": {
      "text/html": [
       "<div>\n",
       "<style>\n",
       "    .dataframe thead tr:only-child th {\n",
       "        text-align: right;\n",
       "    }\n",
       "\n",
       "    .dataframe thead th {\n",
       "        text-align: left;\n",
       "    }\n",
       "\n",
       "    .dataframe tbody tr th {\n",
       "        vertical-align: top;\n",
       "    }\n",
       "</style>\n",
       "<table border=\"1\" class=\"dataframe\">\n",
       "  <thead>\n",
       "    <tr style=\"text-align: right;\">\n",
       "      <th></th>\n",
       "      <th>first</th>\n",
       "      <th>second</th>\n",
       "    </tr>\n",
       "  </thead>\n",
       "  <tbody>\n",
       "    <tr>\n",
       "      <th>0</th>\n",
       "      <td>0.14300</td>\n",
       "      <td>0.984930</td>\n",
       "    </tr>\n",
       "    <tr>\n",
       "      <th>1</th>\n",
       "      <td>-0.30467</td>\n",
       "      <td>0.985620</td>\n",
       "    </tr>\n",
       "    <tr>\n",
       "      <th>2</th>\n",
       "      <td>0.46625</td>\n",
       "      <td>-0.840030</td>\n",
       "    </tr>\n",
       "    <tr>\n",
       "      <th>3</th>\n",
       "      <td>0.94847</td>\n",
       "      <td>0.372220</td>\n",
       "    </tr>\n",
       "    <tr>\n",
       "      <th>4</th>\n",
       "      <td>-0.96871</td>\n",
       "      <td>-0.266970</td>\n",
       "    </tr>\n",
       "    <tr>\n",
       "      <th>5</th>\n",
       "      <td>0.31051</td>\n",
       "      <td>0.983250</td>\n",
       "    </tr>\n",
       "    <tr>\n",
       "      <th>6</th>\n",
       "      <td>0.82363</td>\n",
       "      <td>-0.488260</td>\n",
       "    </tr>\n",
       "    <tr>\n",
       "      <th>7</th>\n",
       "      <td>0.43435</td>\n",
       "      <td>-0.889230</td>\n",
       "    </tr>\n",
       "    <tr>\n",
       "      <th>8</th>\n",
       "      <td>0.99595</td>\n",
       "      <td>0.026083</td>\n",
       "    </tr>\n",
       "    <tr>\n",
       "      <th>9</th>\n",
       "      <td>-0.46760</td>\n",
       "      <td>0.904660</td>\n",
       "    </tr>\n",
       "  </tbody>\n",
       "</table>\n",
       "</div>"
      ],
      "text/plain": [
       "     first    second\n",
       "0  0.14300  0.984930\n",
       "1 -0.30467  0.985620\n",
       "2  0.46625 -0.840030\n",
       "3  0.94847  0.372220\n",
       "4 -0.96871 -0.266970\n",
       "5  0.31051  0.983250\n",
       "6  0.82363 -0.488260\n",
       "7  0.43435 -0.889230\n",
       "8  0.99595  0.026083\n",
       "9 -0.46760  0.904660"
      ]
     },
     "execution_count": 5,
     "metadata": {},
     "output_type": "execute_result"
    }
   ],
   "source": [
    "data.head(10)\n"
   ]
  },
  {
   "cell_type": "code",
   "execution_count": 6,
   "metadata": {
    "collapsed": true,
    "deletable": true,
    "editable": true
   },
   "outputs": [],
   "source": [
    "data_arr=np.array(data)"
   ]
  },
  {
   "cell_type": "code",
   "execution_count": 7,
   "metadata": {
    "collapsed": false,
    "deletable": true,
    "editable": true
   },
   "outputs": [
    {
     "name": "stdout",
     "output_type": "stream",
     "text": [
      "[[ 0.143    0.98493]\n",
      " [-0.30467  0.98562]\n",
      " [ 0.46625 -0.84003]\n",
      " ..., \n",
      " [ 6.1062  -5.9864 ]\n",
      " [-7.4094  -5.5205 ]\n",
      " [-0.12948 -8.8036 ]]\n"
     ]
    }
   ],
   "source": [
    "print(data_arr)"
   ]
  },
  {
   "cell_type": "code",
   "execution_count": 8,
   "metadata": {
    "collapsed": false,
    "deletable": true,
    "editable": true
   },
   "outputs": [
    {
     "name": "stdout",
     "output_type": "stream",
     "text": [
      "[[ 0.143   -0.30467  0.46625 ...,  6.1062  -7.4094  -0.12948]\n",
      " [ 0.98493  0.98562 -0.84003 ..., -5.9864  -5.5205  -8.8036 ]]\n"
     ]
    }
   ],
   "source": [
    "Data_transpose=data_arr.T\n",
    "print(Data_transpose)"
   ]
  },
  {
   "cell_type": "code",
   "execution_count": 9,
   "metadata": {
    "collapsed": false,
    "deletable": true,
    "editable": true
   },
   "outputs": [],
   "source": [
    "temp=np.dot(data_arr,Data_transpose)"
   ]
  },
  {
   "cell_type": "code",
   "execution_count": 10,
   "metadata": {
    "collapsed": true,
    "deletable": true,
    "editable": true
   },
   "outputs": [],
   "source": [
    "temp=temp+1"
   ]
  },
  {
   "cell_type": "code",
   "execution_count": 11,
   "metadata": {
    "collapsed": true,
    "deletable": true,
    "editable": true
   },
   "outputs": [],
   "source": [
    "kernal=temp**2"
   ]
  },
  {
   "cell_type": "code",
   "execution_count": 12,
   "metadata": {
    "collapsed": false,
    "deletable": true,
    "editable": true
   },
   "outputs": [
    {
     "name": "stdout",
     "output_type": "stream",
     "text": [
      "(1000L, 1000L)\n"
     ]
    }
   ],
   "source": [
    "\n",
    "print(kernal.shape)"
   ]
  },
  {
   "cell_type": "code",
   "execution_count": 13,
   "metadata": {
    "collapsed": true,
    "deletable": true,
    "editable": true
   },
   "outputs": [],
   "source": [
    "n=kernal.shape[0]\n",
    "temp_matrix=np.ones((n,n))/n\n",
    "kernal=kernal-temp_matrix.dot(kernal)-kernal.dot(temp_matrix)+temp_matrix.dot(kernal).dot(temp_matrix)"
   ]
  },
  {
   "cell_type": "code",
   "execution_count": 14,
   "metadata": {
    "collapsed": false,
    "deletable": true,
    "editable": true
   },
   "outputs": [
    {
     "name": "stdout",
     "output_type": "stream",
     "text": [
      "(1000L, 1000L)\n"
     ]
    }
   ],
   "source": [
    "eigenvalues,eigenvectors=np.linalg.eig(kernal)\n",
    "print(eigenvectors.shape)"
   ]
  },
  {
   "cell_type": "code",
   "execution_count": 15,
   "metadata": {
    "collapsed": false,
    "deletable": true,
    "editable": true
   },
   "outputs": [],
   "source": [
    "indices = np.argsort(eigenvalues)[::-1] \n",
    "eigenvalues = eigenvalues[indices]\n",
    "eigenvectors = eigenvectors[:,indices]"
   ]
  },
  {
   "cell_type": "code",
   "execution_count": 16,
   "metadata": {
    "collapsed": false,
    "deletable": true,
    "editable": true
   },
   "outputs": [
    {
     "name": "stdout",
     "output_type": "stream",
     "text": [
      "(1000L, 1000L)\n"
     ]
    }
   ],
   "source": [
    "print(eigenvectors.shape)"
   ]
  },
  {
   "cell_type": "code",
   "execution_count": 17,
   "metadata": {
    "collapsed": false,
    "deletable": true,
    "editable": true
   },
   "outputs": [],
   "source": [
    "components=2\n",
    "matrix=[]\n",
    "for i in range (components):\n",
    "    matrix.append(eigenvectors[:,i])\n",
    "matrix=np.array(matrix)\n",
    "matrix=np.array(matrix.T)"
   ]
  },
  {
   "cell_type": "code",
   "execution_count": 18,
   "metadata": {
    "collapsed": false,
    "deletable": true,
    "editable": true
   },
   "outputs": [
    {
     "name": "stdout",
     "output_type": "stream",
     "text": [
      "[[-0.02163690+0.j  0.00218602+0.j]\n",
      " [-0.02193616+0.j  0.00284154+0.j]\n",
      " [-0.02234344+0.j  0.00269801+0.j]\n",
      " ..., \n",
      " [-0.00159556+0.j  0.05550981+0.j]\n",
      " [ 0.05062236+0.j -0.08371748+0.j]\n",
      " [ 0.07297801+0.j  0.04128522+0.j]]\n"
     ]
    }
   ],
   "source": [
    "print(matrix)"
   ]
  },
  {
   "cell_type": "code",
   "execution_count": 19,
   "metadata": {
    "collapsed": false,
    "deletable": true,
    "editable": true
   },
   "outputs": [
    {
     "name": "stderr",
     "output_type": "stream",
     "text": [
      "C:\\Users\\hackerboy\\AppData\\Local\\Enthought\\Canopy\\edm\\envs\\User\\lib\\site-packages\\numpy\\core\\numeric.py:583: ComplexWarning: Casting complex values to real discards the imaginary part\n",
      "  return array(a, dtype, copy=False, order=order, subok=True)\n"
     ]
    },
    {
     "data": {
      "image/png": "[encoded data removed]",
      "text/plain": [
       "<matplotlib.figure.Figure at 0xa07e3c8>"
      ]
     },
     "metadata": {},
     "output_type": "display_data"
    }
   ],
   "source": [
    "plot.figure(figsize=(8,6))\n",
    "plot.scatter(matrix[:,0],matrix[:,1],color='g')\n",
    "plot.grid(True)\n",
    "plot.title(\"Kernal PCA algorithm with D=2\")\n",
    "plot.xlabel(\"X-Axis\")\n",
    "plot.ylabel(\"Y-Axis\")\n",
    "plot.show()"
   ]
  },
  {
   "cell_type": "code",
   "execution_count": 20,
   "metadata": {
    "collapsed": true,
    "deletable": true,
    "editable": true
   },
   "outputs": [],
   "source": [
    "kernal2=temp**3"
   ]
  },
  {
   "cell_type": "code",
   "execution_count": 21,
   "metadata": {
    "collapsed": false,
    "deletable": true,
    "editable": true
   },
   "outputs": [
    {
     "name": "stdout",
     "output_type": "stream",
     "text": [
      "(1000L, 1000L)\n"
     ]
    }
   ],
   "source": [
    "print(kernal2.shape)"
   ]
  },
  {
   "cell_type": "code",
   "execution_count": 22,
   "metadata": {
    "collapsed": true,
    "deletable": true,
    "editable": true
   },
   "outputs": [],
   "source": [
    "n1=kernal2.shape[0]\n",
    "temp_matrix1=np.ones((n1,n1))/n1\n",
    "kernal2=kernal2-temp_matrix1.dot(kernal2)-kernal2.dot(temp_matrix1)+temp_matrix1.dot(kernal2).dot(temp_matrix1)"
   ]
  },
  {
   "cell_type": "code",
   "execution_count": 23,
   "metadata": {
    "collapsed": false,
    "deletable": true,
    "editable": true
   },
   "outputs": [
    {
     "name": "stdout",
     "output_type": "stream",
     "text": [
      "(1000L, 1000L)\n"
     ]
    }
   ],
   "source": [
    "eigenvalues1,eigenvectors1=np.linalg.eig(kernal2)\n",
    "print(eigenvectors1.shape)"
   ]
  },
  {
   "cell_type": "code",
   "execution_count": 24,
   "metadata": {
    "collapsed": true,
    "deletable": true,
    "editable": true
   },
   "outputs": [],
   "source": [
    "indices1 = np.argsort(eigenvalues1)[::-1] \n",
    "eigenvalues1 = eigenvalues1[indices1]\n",
    "eigenvectors1 = eigenvectors1[:,indices1]"
   ]
  },
  {
   "cell_type": "code",
   "execution_count": 25,
   "metadata": {
    "collapsed": false,
    "deletable": true,
    "editable": true
   },
   "outputs": [
    {
     "name": "stdout",
     "output_type": "stream",
     "text": [
      "(1000L, 1000L)\n"
     ]
    }
   ],
   "source": [
    "print(eigenvectors1.shape)"
   ]
  },
  {
   "cell_type": "code",
   "execution_count": 26,
   "metadata": {
    "collapsed": true,
    "deletable": true,
    "editable": true
   },
   "outputs": [],
   "source": [
    "components1=2\n",
    "matrix1=[]\n",
    "for i in range (components1):\n",
    "    matrix1.append(eigenvectors1[:,i])\n",
    "matrix1=np.array(matrix1)\n",
    "matrix1=np.array(matrix1.T)"
   ]
  },
  {
   "cell_type": "code",
   "execution_count": 27,
   "metadata": {
    "collapsed": false,
    "deletable": true,
    "editable": true
   },
   "outputs": [
    {
     "name": "stdout",
     "output_type": "stream",
     "text": [
      "(1000L, 2L)\n"
     ]
    }
   ],
   "source": [
    "print(matrix1.shape)"
   ]
  },
  {
   "cell_type": "code",
   "execution_count": 28,
   "metadata": {
    "collapsed": false,
    "deletable": true,
    "editable": true
   },
   "outputs": [
    {
     "data": {
      "image/png": "[encoded data removed]",
      "text/plain": [
       "<matplotlib.figure.Figure at 0xa2886a0>"
      ]
     },
     "metadata": {},
     "output_type": "display_data"
    }
   ],
   "source": [
    "plot.figure(figsize=(8,6))\n",
    "plot.scatter(matrix1[:,0],matrix1[:,1],color='g')\n",
    "plot.grid(True)\n",
    "plot.title(\"Kernal PCA algorithm with D=3\")\n",
    "plot.xlabel(\"X-Axis\")\n",
    "plot.ylabel(\"Y-Axis\")\n",
    "plot.show()"
   ]
  },
  {
   "cell_type": "code",
   "execution_count": null,
   "metadata": {
    "collapsed": true,
    "deletable": true,
    "editable": true
   },
   "outputs": [],
   "source": []
  }
 ],
 "metadata": {
  "kernelspec": {
   "display_name": "Python 2",
   "language": "python",
   "name": "python2"
  },
  "language_info": {
   "codemirror_mode": {
    "name": "ipython",
    "version": 2
   },
   "file_extension": ".py",
   "mimetype": "text/x-python",
   "name": "python",
   "nbconvert_exporter": "python",
   "pygments_lexer": "ipython2",
   "version": "2.7.13"
  }
 },
 "nbformat": 4,
 "nbformat_minor": 2
}
